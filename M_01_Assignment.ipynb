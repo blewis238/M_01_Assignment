{
 "cells": [
  {
   "cell_type": "code",
   "execution_count": null,
   "id": "43687a22",
   "metadata": {},
   "outputs": [],
   "source": [
    "# Calculate the number of seconds in an hour\n",
    "seconds_per_hour = 60 * 60\n",
    "# Answer: 3,600\n",
    "\n",
    "# Calculate the number of seconds in a day using the seconds_per_hour variable\n",
    "seconds_per_day = seconds_per_hour * 24\n",
    "# Answer: 86,400\n",
    "\n",
    "# Divide seconds_per_day by seconds_per_hour using floating-point division\n",
    "floating_point_result = seconds_per_day / seconds_per_hour\n",
    "# Answer: 24\n",
    "\n",
    "# Divide seconds_per_day by seconds_per_hour using integer division\n",
    "integer_result = seconds_per_day // seconds_per_hour\n",
    "# Answer: The integer division result should agree with the floating-point value, except for the final .0 due to the nature of integer division truncating the decimal part.\n",
    "\n",
    "print(\"Seconds per hour: \", seconds_per_hour)\n",
    "print(\"Seconds per day: \", seconds_per_day)\n",
    "print(\"Floating-point division result: \", floating_point_result)\n",
    "print(\"Integer division result: \", integer_result)"
   ]
  }
 ],
 "metadata": {
  "kernelspec": {
   "display_name": "Python 3 (ipykernel)",
   "language": "python",
   "name": "python3"
  },
  "language_info": {
   "codemirror_mode": {
    "name": "ipython",
    "version": 3
   },
   "file_extension": ".py",
   "mimetype": "text/x-python",
   "name": "python",
   "nbconvert_exporter": "python",
   "pygments_lexer": "ipython3",
   "version": "3.11.4"
  }
 },
 "nbformat": 4,
 "nbformat_minor": 5
}
